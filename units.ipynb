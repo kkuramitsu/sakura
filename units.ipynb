{
 "cells": [
  {
   "cell_type": "markdown",
   "id": "b97058b6",
   "metadata": {},
   "source": [
    "# 単位変換"
   ]
  },
  {
   "cell_type": "code",
   "execution_count": null,
   "id": "f695af36",
   "metadata": {},
   "outputs": [],
   "source": []
  }
 ],
 "metadata": {
  "language_info": {
   "name": "python"
  }
 },
 "nbformat": 4,
 "nbformat_minor": 5
}
